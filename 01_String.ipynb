{
 "cells": [
  {
   "cell_type": "markdown",
   "metadata": {},
   "source": [
    "# Interaktywny Podręcznik Pythona (IPP).\n",
    "## 1. String\n",
    "\n",
    "Dzień Dobry. Tekstowy typ danych (ang. string) jest to typ danych służący do przechowywania ciągu znaków (zmiennych łańcuchowych). \n",
    "Strings używane są w Pythonie to przechowywania informacji tekstowych tj. np.: imię.  Strings w Pythonie przechowywane są w postaci sekwencji znaków. Np.: Python zrozumie napis :\"Witaj\" jako sekwencja znaków w określonej kolejności, gdzie możemy odwołać się do konkretnego znaku w sekwencji. Oznacza to, że każdy znak otrzymuje swój indeks tj.: W - 0, i - 1, t - 2, a - 3, j - 4 oraz specjalne indeksy tj. pierwszy i ostatni znak.\n",
    "\n",
    "Zawartość lekcji:\n",
    "\n",
    "1.) Tworzenie String\n",
    "2.) Drukowanie String\n",
    "3.) Indeksowanie String i przycinanie\n",
    "4.) Właściwości String\n",
    "5.) Metody klasy String\n",
    "6.) Formatowanie String\n",
    "\n",
    "Szczegółowy opis metod klasy String: https://pl.python.org/docs/lib/string-methods.html\n",
    "Formatowanie wyniku: https://www.python-course.eu/python3_formatted_output.php\n"
   ]
  },
  {
   "cell_type": "markdown",
   "metadata": {},
   "source": [
    "### 1.1 Tworzenie String\n",
    "W celu utworzenia zmiennej String w Pythonie możesz użyć pojedynczego lub podwójnego cudzysłowiu. np.:"
   ]
  },
  {
   "cell_type": "code",
   "execution_count": null,
   "metadata": {},
   "outputs": [],
   "source": [
    "# Pojedynczy cudzysłów, pojedyncze słowo\n",
    "'Witaj'"
   ]
  },
  {
   "cell_type": "code",
   "execution_count": null,
   "metadata": {},
   "outputs": [],
   "source": [
    "# Pojedynczy cudzysłów, zdanie\n",
    "'To jest nowe zdanie'"
   ]
  },
  {
   "cell_type": "code",
   "execution_count": null,
   "metadata": {},
   "outputs": [],
   "source": [
    "# Można używać również podwójnego cudzysłowiu\n",
    "\"Napis używający podwójnego cudzysłowiu\""
   ]
  },
  {
   "cell_type": "code",
   "execution_count": null,
   "metadata": {},
   "outputs": [],
   "source": [
    "# Należy uważać na cudzysłowia\n",
    "'Tytuł mojego ulubionego serialu to: 'Black Mirror''"
   ]
  },
  {
   "cell_type": "markdown",
   "metadata": {},
   "source": [
    "Powód dla którego pojawił się powyższy błąd wynika z nieprawidłowego użycia cudzysłowia. Nie można wewnątrz pojedynczego cudzysłowia używać kolejnego cudzysłowia. Prawidłowo powinno to wyglądać tak:"
   ]
  },
  {
   "cell_type": "code",
   "execution_count": null,
   "metadata": {},
   "outputs": [],
   "source": [
    "\"Tytuł mojego ulubionego serialu to: 'Black Mirror'\""
   ]
  },
  {
   "cell_type": "markdown",
   "metadata": {},
   "source": [
    "### 1.2 Drukowanie String\n",
    "Jupyter notebook po wpisaniu String w komórkę, automatycznie wyświetla jej zawartość, ale prawidłowo gdy będziesz pisać kod źródłowy, powinno się użyć funkcji print(). Poniżej zamieszczam kilka przykładów użycia funkcji print().\n",
    "PAMIĘTAJ! Python rozróżnia wielkość liter."
   ]
  },
  {
   "cell_type": "code",
   "execution_count": null,
   "metadata": {},
   "outputs": [],
   "source": [
    "print ('Witaj')\n",
    "print (\"To jest nowe zdanie\")\n",
    "# Można użyć znaku \"\\\" aby funkcja String uznała cudzysłów jak element łańcucha znaków\n",
    "print (\"Tytuł mojego ulubionego serialu to: \\\"Black Mirror\\\"\") \n",
    "# Przeniesienie do nowej linii uzyskuje się przez wstawienie \\n\n",
    "print (\"To jest pierwsza linia \\n A to druga\")"
   ]
  },
  {
   "cell_type": "markdown",
   "metadata": {},
   "source": [
    "Ćwiczenie.\n",
    "Wyświetl na ekranie napis: Dzień Dobry. Nazywam się ...."
   ]
  },
  {
   "cell_type": "markdown",
   "metadata": {},
   "source": [
    "#### Autor: Sebastian Wasiołka."
   ]
  }
 ],
 "metadata": {
  "kernelspec": {
   "display_name": "Python 3",
   "language": "python",
   "name": "python3"
  },
  "language_info": {
   "codemirror_mode": {
    "name": "ipython",
    "version": 3
   },
   "file_extension": ".py",
   "mimetype": "text/x-python",
   "name": "python",
   "nbconvert_exporter": "python",
   "pygments_lexer": "ipython3",
   "version": "3.6.2"
  }
 },
 "nbformat": 4,
 "nbformat_minor": 2
}
